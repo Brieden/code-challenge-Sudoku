{
 "cells": [
  {
   "cell_type": "markdown",
   "metadata": {},
   "source": [
    "# Imports"
   ]
  },
  {
   "cell_type": "code",
   "execution_count": 1,
   "metadata": {},
   "outputs": [],
   "source": [
    "import copy\n",
    "import matplotlib.pyplot as plt\n",
    "import time\n",
    "import random"
   ]
  },
  {
   "cell_type": "markdown",
   "metadata": {},
   "source": [
    "# Matrises"
   ]
  },
  {
   "cell_type": "markdown",
   "metadata": {},
   "source": [
    "### easy matrix"
   ]
  },
  {
   "cell_type": "code",
   "execution_count": 2,
   "metadata": {},
   "outputs": [],
   "source": [
    "start_matrix = [[0, 0, 0, 0, 0, 0, 0, 0, 0],\n",
    "                [2, 3, 4, 5, 6, 7, 8, 9, 1],\n",
    "                [3, 4, 5, 6, 7, 8, 9, 1, 2],\n",
    "                [4, 5, 6, 7, 8, 9, 1, 2, 3],\n",
    "                [5, 6, 7, 8, 9, 1, 2, 3, 4],\n",
    "                [6, 7, 8, 9, 1, 2, 3, 4, 5],\n",
    "                [7, 8, 9, 1, 2, 3, 4, 5, 6],\n",
    "                [8, 9, 1, 2, 3, 4, 5, 6, 7],\n",
    "                [9, 1, 2, 3, 4, 5, 6, 7, 8]]"
   ]
  },
  {
   "cell_type": "markdown",
   "metadata": {},
   "source": [
    "### empty matrix: no unique answer"
   ]
  },
  {
   "cell_type": "code",
   "execution_count": 3,
   "metadata": {},
   "outputs": [],
   "source": [
    "start_matrix = ([[0]*9]*9)"
   ]
  },
  {
   "cell_type": "markdown",
   "metadata": {},
   "source": [
    "### hard matrix"
   ]
  },
  {
   "cell_type": "code",
   "execution_count": 4,
   "metadata": {},
   "outputs": [],
   "source": [
    "start_matrix = [[0, 5, 3, 0, 0, 0, 7, 9, 0],\n",
    "                [0, 0, 9, 7, 5, 3, 4, 0, 0],\n",
    "                [1, 0, 0, 0, 0, 0, 0, 0, 2],\n",
    "                [0, 9, 0, 0, 8, 0, 0, 1, 0],\n",
    "                [0, 0, 0, 9, 0, 7, 0, 0, 0],\n",
    "                [0, 8, 0, 0, 3, 0, 0, 7, 0],\n",
    "                [5, 0, 0, 0, 0, 0, 1, 0, 3],\n",
    "                [0, 0, 7, 6, 4, 1, 2, 0, 0],\n",
    "                [0, 6, 1, 0, 0, 0, 9, 4, 0]]"
   ]
  },
  {
   "cell_type": "markdown",
   "metadata": {},
   "source": [
    "# Solver code"
   ]
  },
  {
   "cell_type": "code",
   "execution_count": 5,
   "metadata": {},
   "outputs": [],
   "source": [
    "\n",
    "def print_sudoko(matrix):\n",
    "    for row in matrix:\n",
    "        print(row)\n",
    "\n",
    "\n",
    "def column_from_matrix(matrix, column_number):\n",
    "    column_numbers = []\n",
    "    for row in range(9):\n",
    "        column_numbers.append(matrix[row][column_number])\n",
    "    return column_numbers\n",
    "\n",
    "\n",
    "def no_zeros(matrix):\n",
    "    for row in matrix:\n",
    "        if 0 in row:\n",
    "            return 0\n",
    "    return 1\n",
    "\n",
    "\n",
    "def zero_in_row(row):\n",
    "    return row.count(0) > 0\n",
    "\n",
    "\n",
    "def solve_sudoko(matrix):\n",
    "    done = 0\n",
    "    for row_num, row in enumerate(matrix):\n",
    "        if zero_in_row(row):\n",
    "            zero_position = row.index(0)\n",
    "            column = column_from_matrix(matrix, zero_position)\n",
    "            for new_number in [1, 2, 3, 4, 5, 6, 7, 8, 9]:\n",
    "                if new_number not in set(row + column):\n",
    "                    matrix[row_num][zero_position] = new_number\n",
    "                    if no_zeros(matrix):\n",
    "                        return 1\n",
    "                    else:\n",
    "                        done = solve_sudoko(matrix)\n",
    "                        if not done:\n",
    "                            matrix[row_num][zero_position] = 0\n",
    "            return done"
   ]
  },
  {
   "cell_type": "markdown",
   "metadata": {},
   "source": [
    "# Solver test"
   ]
  },
  {
   "cell_type": "code",
   "execution_count": 6,
   "metadata": {},
   "outputs": [
    {
     "name": "stdout",
     "output_type": "stream",
     "text": [
      "CPU times: user 1.98 s, sys: 0 ns, total: 1.98 s\n",
      "Wall time: 1.98 s\n",
      "[2, 5, 3, 1, 6, 8, 7, 9, 4]\n",
      "[6, 1, 9, 7, 5, 3, 4, 2, 8]\n",
      "[1, 4, 5, 3, 7, 9, 6, 8, 2]\n",
      "[7, 9, 2, 5, 8, 4, 3, 1, 6]\n",
      "[4, 2, 6, 9, 1, 7, 8, 3, 5]\n",
      "[9, 8, 4, 2, 3, 6, 5, 7, 1]\n",
      "[5, 7, 8, 4, 9, 2, 1, 6, 3]\n",
      "[8, 3, 7, 6, 4, 1, 2, 5, 9]\n",
      "[3, 6, 1, 8, 2, 5, 9, 4, 7]\n"
     ]
    }
   ],
   "source": [
    "\n",
    "new_matrix = copy.deepcopy(start_matrix)\n",
    "%time solve_sudoko(new_matrix)\n",
    "print_sudoko(new_matrix)"
   ]
  },
  {
   "cell_type": "markdown",
   "metadata": {},
   "source": [
    "# Performance test:"
   ]
  },
  {
   "cell_type": "markdown",
   "metadata": {},
   "source": [
    "### Check the impact of order the empty positions"
   ]
  },
  {
   "cell_type": "code",
   "execution_count": 7,
   "metadata": {},
   "outputs": [],
   "source": [
    "start_matrix = [[1, 2, 3, 4, 5, 6, 7, 8, 9],   # easy matrix\n",
    "                [2, 3, 4, 5, 6, 7, 8, 9, 1],\n",
    "                [3, 4, 5, 6, 7, 8, 9, 1, 2],\n",
    "                [4, 5, 6, 7, 8, 9, 1, 2, 3],\n",
    "                [5, 6, 7, 8, 9, 1, 2, 3, 4],\n",
    "                [6, 7, 8, 9, 1, 2, 3, 4, 5],\n",
    "                [7, 8, 9, 1, 2, 3, 4, 5, 6],\n",
    "                [8, 9, 1, 2, 3, 4, 5, 6, 7],\n",
    "                [9, 1, 2, 3, 4, 5, 6, 7, 8]]"
   ]
  },
  {
   "cell_type": "code",
   "execution_count": 8,
   "metadata": {},
   "outputs": [],
   "source": [
    "\n",
    "def runtime_check(start_matrix):\n",
    "    \"\"\"check runtime for 1 to 9*9 empty positions randomly choosed\"\"\"\n",
    "    runtimes, empty_positions = [], []\n",
    "    positions = [(x, y) for x in range(9) for y in range(9)]\n",
    "    for empty_position in random.sample(range(9*9), 9*9):\n",
    "        empty_positions.append(empty_position)\n",
    "        new_matrix = copy.deepcopy(start_matrix)\n",
    "        for position in random.sample(positions, empty_position):\n",
    "            new_matrix[position[0]][position[1]] = 0\n",
    "        start_time = time.time()\n",
    "        solve_sudoko(new_matrix)\n",
    "        solve_time = time.time() - start_time\n",
    "        runtimes.append(solve_time)\n",
    "    return runtimes, empty_positions"
   ]
  },
  {
   "cell_type": "code",
   "execution_count": 9,
   "metadata": {},
   "outputs": [
    {
     "name": "stdout",
     "output_type": "stream",
     "text": [
      "CPU times: user 38.5 s, sys: 6.4 ms, total: 38.6 s\n",
      "Wall time: 38.6 s\n"
     ]
    }
   ],
   "source": [
    "%%time\n",
    "runtimes_all, empty_positions_all = [], []\n",
    "for run in range(10):\n",
    "    runtime_set, empty_position_set = runtime_check(start_matrix)\n",
    "    runtimes_all += runtime_set\n",
    "    empty_positions_all += empty_position_set"
   ]
  },
  {
   "cell_type": "code",
   "execution_count": 10,
   "metadata": {},
   "outputs": [],
   "source": [
    "means = []\n",
    "for i in range(9*9):\n",
    "    alle = [runtimes_all[k] for k, d in enumerate(empty_positions_all) if d == i]\n",
    "    mean = sum(alle)/len(alle)\n",
    "    means.append(mean)"
   ]
  },
  {
   "cell_type": "code",
   "execution_count": 11,
   "metadata": {},
   "outputs": [
    {
     "data": {
      "text/plain": [
       "<matplotlib.legend.Legend at 0x7fda26f10350>"
      ]
     },
     "execution_count": 11,
     "metadata": {},
     "output_type": "execute_result"
    },
    {
     "data": {
      "image/png": "[encoded data removed]",
      "text/plain": [
       "<Figure size 432x288 with 1 Axes>"
      ]
     },
     "metadata": {
      "needs_background": "light"
     },
     "output_type": "display_data"
    }
   ],
   "source": [
    "plt.plot(empty_positions_all, runtimes_all, \".\", label  =  \"data points\")\n",
    "plt.plot(means, label  =  \"mean\")\n",
    "plt.semilogy(), plt.xlabel(\"Amount of missing Numbers\"), plt.ylabel(\" Time to solve [s]\"), \n",
    "plt.legend()"
   ]
  },
  {
   "cell_type": "code",
   "execution_count": null,
   "metadata": {},
   "outputs": [],
   "source": []
  },
  {
   "cell_type": "markdown",
   "metadata": {},
   "source": [
    "### Check the impact diffrent start matrixes"
   ]
  },
  {
   "cell_type": "code",
   "execution_count": 12,
   "metadata": {},
   "outputs": [],
   "source": [
    "start_matrix1 = [[1, 2, 3, 4, 5, 6, 7, 8, 9],   # easy matrix\n",
    "                 [2, 3, 4, 5, 6, 7, 8, 9, 1],\n",
    "                 [3, 4, 5, 6, 7, 8, 9, 1, 2],\n",
    "                 [4, 5, 6, 7, 8, 9, 1, 2, 3],\n",
    "                 [5, 6, 7, 8, 9, 1, 2, 3, 4],\n",
    "                 [6, 7, 8, 9, 1, 2, 3, 4, 5],\n",
    "                 [7, 8, 9, 1, 2, 3, 4, 5, 6],\n",
    "                 [8, 9, 1, 2, 3, 4, 5, 6, 7],\n",
    "                 [9, 1, 2, 3, 4, 5, 6, 7, 8]]\n",
    "\n",
    "start_matrix2 = [[4, 8, 3, 9, 2, 1, 6, 5, 7],\n",
    "                 [9, 6, 7, 3, 4, 5, 8, 2, 1],\n",
    "                 [2, 5, 1, 8, 7, 6, 4, 9, 3],\n",
    "                 [5, 4, 8, 1, 3, 2, 9, 7, 6],\n",
    "                 [7, 2, 9, 5, 6, 4, 1, 3, 8],\n",
    "                 [1, 3, 6, 7, 9, 8, 2, 4, 5],\n",
    "                 [3, 7, 2, 6, 8, 9, 5, 1, 4],\n",
    "                 [8, 1, 4, 2, 5, 3, 7, 6, 9],\n",
    "                 [6, 9, 5, 4, 1, 7, 3, 8, 2]]\n",
    "\n",
    "start_matrix3 = [[7, 4, 3, 9, 5, 1, 6, 8, 2],\n",
    "                 [1, 6, 2, 4, 8, 7, 3, 9, 5],\n",
    "                 [9, 5, 8, 6, 3, 2, 7, 1, 4],\n",
    "                 [2, 1, 9, 8, 7, 3, 5, 4, 6],\n",
    "                 [3, 7, 4, 5, 6, 9, 1, 2, 8],\n",
    "                 [5, 8, 6, 1, 2, 4, 9, 7, 3],\n",
    "                 [4, 9, 5, 2, 1, 6, 8, 3, 7],\n",
    "                 [8, 2, 7, 3, 9, 5, 4, 6, 1],\n",
    "                 [6, 3, 1, 7, 4, 8, 2, 5, 9]]\n",
    "\n",
    "start_matrix4 = [[2, 5, 3, 1, 6, 8, 7, 9, 4],\n",
    "                 [6, 1, 9, 7, 5, 3, 4, 2, 8],\n",
    "                 [1, 4, 5, 3, 7, 9, 6, 8, 2],\n",
    "                 [7, 9, 2, 5, 8, 4, 3, 1, 6],\n",
    "                 [4, 2, 6, 9, 1, 7, 8, 3, 5],\n",
    "                 [9, 8, 4, 2, 3, 6, 5, 7, 1],\n",
    "                 [5, 7, 8, 4, 9, 2, 1, 6, 3],\n",
    "                 [8, 3, 7, 6, 4, 1, 2, 5, 9],\n",
    "                 [3, 6, 1, 8, 2, 5, 9, 4, 7]]\n",
    "repetitions = 1"
   ]
  },
  {
   "cell_type": "code",
   "execution_count": 13,
   "metadata": {},
   "outputs": [],
   "source": [
    "\n",
    "def runtime_check(start_matrix):\n",
    "    \"\"\"check runtime for 1 to 9*9 empty positions randomly choosed\"\"\"\n",
    "    runtimes, empty_positions = [], []\n",
    "    positions = [(x, y) for x in range(9) for y in range(9)]\n",
    "    for empty_position in random.sample(range(9*9), 9*9):\n",
    "        empty_positions.append(empty_position)\n",
    "        new_matrix = copy.deepcopy(start_matrix)\n",
    "        for position in random.sample(positions, empty_position):\n",
    "            new_matrix[position[0]][position[1]] = 0\n",
    "        start_time = time.time()\n",
    "        solve_sudoko(new_matrix)\n",
    "        solve_time = time.time() - start_time\n",
    "        runtimes.append(solve_time)\n",
    "    return runtimes, empty_positions"
   ]
  },
  {
   "cell_type": "code",
   "execution_count": 14,
   "metadata": {},
   "outputs": [
    {
     "name": "stdout",
     "output_type": "stream",
     "text": [
      "CPU times: user 547 ms, sys: 0 ns, total: 547 ms\n",
      "Wall time: 547 ms\n"
     ]
    }
   ],
   "source": [
    "%%time\n",
    "runtimes_all_1, empty_positions_all_1 = [], []\n",
    "for run in range(repetitions):\n",
    "    runtime_set, empty_position_set = runtime_check(start_matrix1)\n",
    "    runtimes_all_1 += runtime_set\n",
    "    empty_positions_all_1 += empty_position_set\n",
    "\n",
    "means_1 = []\n",
    "for i in range(9*9):\n",
    "    alle = [runtimes_all_1[k] for k, d in enumerate(empty_positions_all_1) if d == i]\n",
    "    mean = sum(alle)/len(alle)\n",
    "    means_1.append(mean)"
   ]
  },
  {
   "cell_type": "code",
   "execution_count": 15,
   "metadata": {},
   "outputs": [
    {
     "name": "stdout",
     "output_type": "stream",
     "text": [
      "CPU times: user 3.77 s, sys: 0 ns, total: 3.77 s\n",
      "Wall time: 3.77 s\n"
     ]
    }
   ],
   "source": [
    "%%time\n",
    "runtimes_all_2, empty_positions_all_2 = [], []\n",
    "for run in range(repetitions):\n",
    "    runtime_set, empty_position_set = runtime_check(start_matrix2)\n",
    "    runtimes_all_2 += runtime_set\n",
    "    empty_positions_all_2 += empty_position_set\n",
    "\n",
    "means_2 = []\n",
    "for i in range(9*9):\n",
    "    alle = [runtimes_all_2[k] for k, d in enumerate(empty_positions_all_2) if d == i]\n",
    "    mean = sum(alle)/len(alle)\n",
    "    means_2.append(mean)"
   ]
  },
  {
   "cell_type": "code",
   "execution_count": 16,
   "metadata": {},
   "outputs": [
    {
     "name": "stdout",
     "output_type": "stream",
     "text": [
      "CPU times: user 27min 53s, sys: 29.9 ms, total: 27min 53s\n",
      "Wall time: 27min 54s\n"
     ]
    }
   ],
   "source": [
    "%%time\n",
    "runtimes_all_3, empty_positions_all_3 = [], []\n",
    "for run in range(repetitions):\n",
    "    runtime_set, empty_position_set = runtime_check(start_matrix3)\n",
    "    runtimes_all_3 += runtime_set\n",
    "    empty_positions_all_3 += empty_position_set\n",
    "\n",
    "means_3 = []\n",
    "for i in range(9*9):\n",
    "    alle = [runtimes_all_3[k] for k, d in enumerate(empty_positions_all_3) if d == i]\n",
    "    mean = sum(alle)/len(alle)\n",
    "    means_3.append(mean)"
   ]
  },
  {
   "cell_type": "code",
   "execution_count": 17,
   "metadata": {},
   "outputs": [
    {
     "name": "stdout",
     "output_type": "stream",
     "text": [
      "CPU times: user 3.46 s, sys: 0 ns, total: 3.46 s\n",
      "Wall time: 3.46 s\n"
     ]
    }
   ],
   "source": [
    "%%time\n",
    "runtimes_all_4, empty_positions_all_4 = [], []\n",
    "for run in range(repetitions):\n",
    "    runtime_set, empty_position_set = runtime_check(start_matrix4)\n",
    "    runtimes_all_4 += runtime_set\n",
    "    empty_positions_all_4 += empty_position_set\n",
    "\n",
    "means_4 = []\n",
    "for i in range(9*9):\n",
    "    alle = [runtimes_all_4[k] for k, d in enumerate(empty_positions_all_4) if d == i]\n",
    "    mean = sum(alle)/len(alle)\n",
    "    means_4.append(mean)"
   ]
  },
  {
   "cell_type": "code",
   "execution_count": 18,
   "metadata": {},
   "outputs": [
    {
     "data": {
      "text/plain": [
       "([],\n",
       " Text(0.5, 0, 'Amount of missing Numbers'),\n",
       " Text(0, 0.5, ' Time to solve [s]'))"
      ]
     },
     "execution_count": 18,
     "metadata": {},
     "output_type": "execute_result"
    },
    {
     "data": {
      "image/png": "[encoded data removed]",
      "text/plain": [
       "<Figure size 432x288 with 1 Axes>"
      ]
     },
     "metadata": {
      "needs_background": "light"
     },
     "output_type": "display_data"
    }
   ],
   "source": [
    "for mean in [means_1, means_2, means_3, means_4]:\n",
    "    plt.plot(mean)\n",
    "plt.semilogy(), plt.xlabel(\"Amount of missing Numbers\"), plt.ylabel(\" Time to solve [s]\"), "
   ]
  },
  {
   "cell_type": "markdown",
   "metadata": {},
   "source": [
    "### Check distribution at diffrent positions:"
   ]
  },
  {
   "cell_type": "code",
   "execution_count": 19,
   "metadata": {},
   "outputs": [],
   "source": [
    "\n",
    "def runtime_check_at_fix_emptiness(start_matrix, empty_positions):\n",
    "    \"\"\"check runtime for fix empty positions randomly choosed\"\"\"\n",
    "    positions = [(x, y) for x in range(9) for y in range(9)]\n",
    "    new_matrix = copy.deepcopy(start_matrix)\n",
    "    for position in random.sample(positions, empty_positions):\n",
    "        new_matrix[position[0]][position[1]] = 0\n",
    "    start_time = time.time()\n",
    "    solve_sudoko(new_matrix)\n",
    "    solve_time = time.time() - start_time\n",
    "    return solve_time"
   ]
  },
  {
   "cell_type": "code",
   "execution_count": 20,
   "metadata": {},
   "outputs": [
    {
     "name": "stdout",
     "output_type": "stream",
     "text": [
      "CPU times: user 1min 2s, sys: 60 ms, total: 1min 2s\n",
      "Wall time: 1min 2s\n"
     ]
    }
   ],
   "source": [
    "%%time\n",
    "runtimes_30_missing = []\n",
    "for run in range(200000):\n",
    "    runtime = runtime_check_at_fix_emptiness(start_matrix, 30)\n",
    "    runtimes_30_missing.append(runtime)"
   ]
  },
  {
   "cell_type": "code",
   "execution_count": 21,
   "metadata": {},
   "outputs": [
    {
     "data": {
      "text/plain": [
       "(Text(0, 0.5, '#'), Text(0.5, 0, ' Time to solve [s]'))"
      ]
     },
     "execution_count": 21,
     "metadata": {},
     "output_type": "execute_result"
    },
    {
     "data": {
      "image/png": "[encoded data removed]",
      "text/plain": [
       "<Figure size 432x288 with 1 Axes>"
      ]
     },
     "metadata": {
      "needs_background": "light"
     },
     "output_type": "display_data"
    }
   ],
   "source": [
    "plt.hist(runtimes_30_missing, bins=60)\n",
    "plt.ylabel(\"#\"), plt.xlabel(\" Time to solve [s]\")\n",
    "#plt.semilogy()"
   ]
  },
  {
   "cell_type": "code",
   "execution_count": null,
   "metadata": {},
   "outputs": [],
   "source": []
  },
  {
   "cell_type": "code",
   "execution_count": null,
   "metadata": {},
   "outputs": [],
   "source": []
  },
  {
   "cell_type": "code",
   "execution_count": null,
   "metadata": {},
   "outputs": [],
   "source": []
  }
 ],
 "metadata": {
  "kernelspec": {
   "display_name": "Python 3",
   "language": "python",
   "name": "python3"
  },
  "language_info": {
   "codemirror_mode": {
    "name": "ipython",
    "version": 3
   },
   "file_extension": ".py",
   "mimetype": "text/x-python",
   "name": "python",
   "nbconvert_exporter": "python",
   "pygments_lexer": "ipython3",
   "version": "3.7.7"
  }
 },
 "nbformat": 4,
 "nbformat_minor": 4
}
